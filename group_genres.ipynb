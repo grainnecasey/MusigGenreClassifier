{
 "cells": [
  {
   "cell_type": "code",
   "execution_count": 1,
   "metadata": {},
   "outputs": [],
   "source": [
    "import pandas as pd\n",
    "from collections import Counter, OrderedDict\n",
    "from itertools import chain"
   ]
  },
  {
   "cell_type": "code",
   "execution_count": 2,
   "metadata": {},
   "outputs": [
    {
     "data": {
      "text/plain": [
       "0                                           ['show tunes']\n",
       "1                                                       []\n",
       "2                                                       []\n",
       "3                                                       []\n",
       "4                                                       []\n",
       "                               ...                        \n",
       "27616    ['c-pop', 'classic mandopop', 'vintage chinese...\n",
       "27617    ['c-pop', 'classic cantopop', 'classic mandopop']\n",
       "27618                                                   []\n",
       "27619                                                   []\n",
       "27620              ['chinese indie', 'chinese indie rock']\n",
       "Name: genres, Length: 27621, dtype: object"
      ]
     },
     "execution_count": 2,
     "metadata": {},
     "output_type": "execute_result"
    }
   ],
   "source": [
    "data = pd.read_csv(\"dataset/data_w_genres.csv\")\n",
    "data['genres']"
   ]
  },
  {
   "cell_type": "code",
   "execution_count": 3,
   "metadata": {},
   "outputs": [],
   "source": [
    "# flatten list of genres to get counts\n",
    "\n",
    "df = data['genres'].tolist()\n",
    "\n",
    "flat = []\n",
    "for x in df:\n",
    "    x = x[2:-2].replace(\"\\'\", '').split(',')\n",
    "    flat.append(x)\n",
    "  \n",
    "flatten_list = list(chain.from_iterable(flat)) \n",
    "\n",
    "flat = []\n",
    "for item in flatten_list:\n",
    "    flat.append(item.strip())\n",
    "    \n",
    "count = Counter(flat)\n",
    "y = OrderedDict(count.most_common())"
   ]
  },
  {
   "cell_type": "code",
   "execution_count": 4,
   "metadata": {
    "pycharm": {
     "name": "#%%\n"
    }
   },
   "outputs": [],
   "source": [
    "df = data['genres'].tolist()\n",
    "\n",
    "flat = []\n",
    "for x in df:\n",
    "    x = x[2:-2].replace(\"\\'\", '').split(',')\n",
    "    flat.append(x)\n",
    "\n",
    "data['genres'] = flat"
   ]
  },
  {
   "cell_type": "code",
   "execution_count": 18,
   "metadata": {
    "scrolled": true
   },
   "outputs": [],
   "source": [
    "# make this a dictionary where  key  is genre and values are possibilities\n",
    "\n",
    "main_genres = ['pop', 'rock', 'hip hop', 'jazz', 'edm', 'classical', 'alternative', 'metal', 'country']\n",
    " \n",
    "gens = {'pop': ['pop'], 'rock': ['rock',  'punk'], 'hip hop': ['hip hop', 'rap'], 'jazz': ['jazz'], \n",
    "               'edm': ['edm', 'house', 'future bass', 'disco'], 'classical': ['classical', 'orchestra'], \n",
    "               'alternative': ['alternative'], 'metal': ['metal'], 'country': ['country']}    \n",
    "'''\n",
    "def set_genre(x):\n",
    "    new_genres = []\n",
    "    for g in main_genres:\n",
    "        if g in ''.join(x):\n",
    "            new_genres.append(g)\n",
    "    if len(new_genres) == 0:\n",
    "        new_genres = ['other']\n",
    "    return new_genres\n",
    "'''    \n",
    "\n",
    "def set_genre(x):\n",
    "    new_genres = []\n",
    "    for g in gens.keys():\n",
    "        for n in gens[g]:\n",
    "            if n in ''.join(x):\n",
    "                new_genres.append(g)\n",
    "    if len(new_genres) == 0:\n",
    "        new_genres = ['other']\n",
    "    return new_genres"
   ]
  },
  {
   "cell_type": "code",
   "execution_count": 19,
   "metadata": {},
   "outputs": [
    {
     "data": {
      "text/plain": [
       "['pop', 'rock']"
      ]
     },
     "execution_count": 19,
     "metadata": {},
     "output_type": "execute_result"
    }
   ],
   "source": [
    "set_genre(data['genres'][9])"
   ]
  },
  {
   "cell_type": "code",
   "execution_count": 20,
   "metadata": {},
   "outputs": [],
   "source": [
    "data['new_genres'] = data['genres'].apply(lambda x: set_genre(x))\n",
    "# data[['artists', 'genres', 'new_genres']].sample(25)"
   ]
  },
  {
   "cell_type": "code",
   "execution_count": 24,
   "metadata": {},
   "outputs": [
    {
     "data": {
      "text/html": [
       "<div>\n",
       "<style scoped>\n",
       "    .dataframe tbody tr th:only-of-type {\n",
       "        vertical-align: middle;\n",
       "    }\n",
       "\n",
       "    .dataframe tbody tr th {\n",
       "        vertical-align: top;\n",
       "    }\n",
       "\n",
       "    .dataframe thead th {\n",
       "        text-align: right;\n",
       "    }\n",
       "</style>\n",
       "<table border=\"1\" class=\"dataframe\">\n",
       "  <thead>\n",
       "    <tr style=\"text-align: right;\">\n",
       "      <th></th>\n",
       "      <th>genres</th>\n",
       "    </tr>\n",
       "  </thead>\n",
       "  <tbody>\n",
       "    <tr>\n",
       "      <th>['']</th>\n",
       "      <td>9530</td>\n",
       "    </tr>\n",
       "    <tr>\n",
       "      <th>['movie tunes']</th>\n",
       "      <td>78</td>\n",
       "    </tr>\n",
       "    <tr>\n",
       "      <th>['show tunes']</th>\n",
       "      <td>63</td>\n",
       "    </tr>\n",
       "    <tr>\n",
       "      <th>['sleep']</th>\n",
       "      <td>56</td>\n",
       "    </tr>\n",
       "    <tr>\n",
       "      <th>['broadway', ' hollywood', ' show tunes']</th>\n",
       "      <td>53</td>\n",
       "    </tr>\n",
       "    <tr>\n",
       "      <th>...</th>\n",
       "      <td>...</td>\n",
       "    </tr>\n",
       "    <tr>\n",
       "      <th>['brazilian boogie']</th>\n",
       "      <td>1</td>\n",
       "    </tr>\n",
       "    <tr>\n",
       "      <th>['deep g funk']</th>\n",
       "      <td>1</td>\n",
       "    </tr>\n",
       "    <tr>\n",
       "      <th>['classic girl group']</th>\n",
       "      <td>1</td>\n",
       "    </tr>\n",
       "    <tr>\n",
       "      <th>['louisiana blues', ' new orleans blues']</th>\n",
       "      <td>1</td>\n",
       "    </tr>\n",
       "    <tr>\n",
       "      <th>['quiet storm', ' soul', ' soul blues', ' southern soul', ' southern soul blues']</th>\n",
       "      <td>1</td>\n",
       "    </tr>\n",
       "  </tbody>\n",
       "</table>\n",
       "<p>2129 rows × 1 columns</p>\n",
       "</div>"
      ],
      "text/plain": [
       "                                                    genres\n",
       "['']                                                  9530\n",
       "['movie tunes']                                         78\n",
       "['show tunes']                                          63\n",
       "['sleep']                                               56\n",
       "['broadway', ' hollywood', ' show tunes']               53\n",
       "...                                                    ...\n",
       "['brazilian boogie']                                     1\n",
       "['deep g funk']                                          1\n",
       "['classic girl group']                                   1\n",
       "['louisiana blues', ' new orleans blues']                1\n",
       "['quiet storm', ' soul', ' soul blues', ' south...       1\n",
       "\n",
       "[2129 rows x 1 columns]"
      ]
     },
     "execution_count": 24,
     "metadata": {},
     "output_type": "execute_result"
    }
   ],
   "source": [
    "pd.set_option(\"display.max_rows\", 50, \"display.max_columns\", 25)\n",
    "df = data.copy()\n",
    "df['new_genres'].astype('str').value_counts()\n",
    "other_df = df.loc[df['new_genres'].astype('str') == '[\\'other\\']'][['artists', 'genres', 'new_genres']]\n",
    "pd.DataFrame(other_df['genres'].astype('str').value_counts())\n",
    "#other_df"
   ]
  },
  {
   "cell_type": "code",
   "execution_count": null,
   "metadata": {},
   "outputs": [],
   "source": []
  }
 ],
 "metadata": {
  "kernelspec": {
   "display_name": "Python 3",
   "language": "python",
   "name": "python3"
  },
  "language_info": {
   "codemirror_mode": {
    "name": "ipython",
    "version": 3
   },
   "file_extension": ".py",
   "mimetype": "text/x-python",
   "name": "python",
   "nbconvert_exporter": "python",
   "pygments_lexer": "ipython3",
   "version": "3.7.3"
  }
 },
 "nbformat": 4,
 "nbformat_minor": 1
}
